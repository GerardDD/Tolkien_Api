{
 "cells": [
  {
   "cell_type": "code",
   "execution_count": 1,
   "id": "af870ee5",
   "metadata": {},
   "outputs": [],
   "source": [
    "import requests\n",
    "import pandas as pd\n",
    "import random"
   ]
  },
  {
   "cell_type": "code",
   "execution_count": 10,
   "id": "c1e09ea5",
   "metadata": {},
   "outputs": [],
   "source": [
    "basic_api_url = 'https://the-one-api.dev/v2/movie'"
   ]
  },
  {
   "cell_type": "code",
   "execution_count": 11,
   "id": "42c061ad",
   "metadata": {},
   "outputs": [],
   "source": [
    "token_path = './tolken'"
   ]
  },
  {
   "cell_type": "code",
   "execution_count": 12,
   "id": "75e58ebe",
   "metadata": {},
   "outputs": [],
   "source": [
    "with open(token_path) as f:\n",
    "    token = f.read()"
   ]
  },
  {
   "cell_type": "code",
   "execution_count": 13,
   "id": "e1ad9602",
   "metadata": {},
   "outputs": [],
   "source": [
    "header = {\n",
    "    'Authorization': f'Bearer {token}'\n",
    "}"
   ]
  },
  {
   "cell_type": "code",
   "execution_count": 15,
   "id": "49c8ee85",
   "metadata": {},
   "outputs": [],
   "source": [
    "resp = requests.get(basic_api_url, headers = header)"
   ]
  },
  {
   "cell_type": "code",
   "execution_count": 31,
   "id": "e4bf2d28",
   "metadata": {},
   "outputs": [
    {
     "data": {
      "text/plain": [
       "'95'"
      ]
     },
     "execution_count": 31,
     "metadata": {},
     "output_type": "execute_result"
    }
   ],
   "source": [
    "resp.headers['X-RateLimit-Remaining']"
   ]
  },
  {
   "cell_type": "code",
   "execution_count": 22,
   "id": "2b244fdf",
   "metadata": {},
   "outputs": [],
   "source": [
    "resp_json = resp.json()"
   ]
  },
  {
   "cell_type": "code",
   "execution_count": 26,
   "id": "e9d9614a",
   "metadata": {},
   "outputs": [
    {
     "data": {
      "text/html": [
       "<div>\n",
       "<style scoped>\n",
       "    .dataframe tbody tr th:only-of-type {\n",
       "        vertical-align: middle;\n",
       "    }\n",
       "\n",
       "    .dataframe tbody tr th {\n",
       "        vertical-align: top;\n",
       "    }\n",
       "\n",
       "    .dataframe thead th {\n",
       "        text-align: right;\n",
       "    }\n",
       "</style>\n",
       "<table border=\"1\" class=\"dataframe\">\n",
       "  <thead>\n",
       "    <tr style=\"text-align: right;\">\n",
       "      <th></th>\n",
       "      <th>docs</th>\n",
       "      <th>total</th>\n",
       "      <th>limit</th>\n",
       "      <th>offset</th>\n",
       "      <th>page</th>\n",
       "      <th>pages</th>\n",
       "    </tr>\n",
       "  </thead>\n",
       "  <tbody>\n",
       "    <tr>\n",
       "      <th>0</th>\n",
       "      <td>{'_id': '5cd95395de30eff6ebccde56', 'name': 'T...</td>\n",
       "      <td>8</td>\n",
       "      <td>1000</td>\n",
       "      <td>0</td>\n",
       "      <td>1</td>\n",
       "      <td>1</td>\n",
       "    </tr>\n",
       "    <tr>\n",
       "      <th>1</th>\n",
       "      <td>{'_id': '5cd95395de30eff6ebccde57', 'name': 'T...</td>\n",
       "      <td>8</td>\n",
       "      <td>1000</td>\n",
       "      <td>0</td>\n",
       "      <td>1</td>\n",
       "      <td>1</td>\n",
       "    </tr>\n",
       "    <tr>\n",
       "      <th>2</th>\n",
       "      <td>{'_id': '5cd95395de30eff6ebccde58', 'name': 'T...</td>\n",
       "      <td>8</td>\n",
       "      <td>1000</td>\n",
       "      <td>0</td>\n",
       "      <td>1</td>\n",
       "      <td>1</td>\n",
       "    </tr>\n",
       "    <tr>\n",
       "      <th>3</th>\n",
       "      <td>{'_id': '5cd95395de30eff6ebccde59', 'name': 'T...</td>\n",
       "      <td>8</td>\n",
       "      <td>1000</td>\n",
       "      <td>0</td>\n",
       "      <td>1</td>\n",
       "      <td>1</td>\n",
       "    </tr>\n",
       "    <tr>\n",
       "      <th>4</th>\n",
       "      <td>{'_id': '5cd95395de30eff6ebccde5a', 'name': 'T...</td>\n",
       "      <td>8</td>\n",
       "      <td>1000</td>\n",
       "      <td>0</td>\n",
       "      <td>1</td>\n",
       "      <td>1</td>\n",
       "    </tr>\n",
       "    <tr>\n",
       "      <th>5</th>\n",
       "      <td>{'_id': '5cd95395de30eff6ebccde5b', 'name': 'T...</td>\n",
       "      <td>8</td>\n",
       "      <td>1000</td>\n",
       "      <td>0</td>\n",
       "      <td>1</td>\n",
       "      <td>1</td>\n",
       "    </tr>\n",
       "    <tr>\n",
       "      <th>6</th>\n",
       "      <td>{'_id': '5cd95395de30eff6ebccde5c', 'name': 'T...</td>\n",
       "      <td>8</td>\n",
       "      <td>1000</td>\n",
       "      <td>0</td>\n",
       "      <td>1</td>\n",
       "      <td>1</td>\n",
       "    </tr>\n",
       "    <tr>\n",
       "      <th>7</th>\n",
       "      <td>{'_id': '5cd95395de30eff6ebccde5d', 'name': 'T...</td>\n",
       "      <td>8</td>\n",
       "      <td>1000</td>\n",
       "      <td>0</td>\n",
       "      <td>1</td>\n",
       "      <td>1</td>\n",
       "    </tr>\n",
       "  </tbody>\n",
       "</table>\n",
       "</div>"
      ],
      "text/plain": [
       "                                                docs  total  limit  offset  \\\n",
       "0  {'_id': '5cd95395de30eff6ebccde56', 'name': 'T...      8   1000       0   \n",
       "1  {'_id': '5cd95395de30eff6ebccde57', 'name': 'T...      8   1000       0   \n",
       "2  {'_id': '5cd95395de30eff6ebccde58', 'name': 'T...      8   1000       0   \n",
       "3  {'_id': '5cd95395de30eff6ebccde59', 'name': 'T...      8   1000       0   \n",
       "4  {'_id': '5cd95395de30eff6ebccde5a', 'name': 'T...      8   1000       0   \n",
       "5  {'_id': '5cd95395de30eff6ebccde5b', 'name': 'T...      8   1000       0   \n",
       "6  {'_id': '5cd95395de30eff6ebccde5c', 'name': 'T...      8   1000       0   \n",
       "7  {'_id': '5cd95395de30eff6ebccde5d', 'name': 'T...      8   1000       0   \n",
       "\n",
       "   page  pages  \n",
       "0     1      1  \n",
       "1     1      1  \n",
       "2     1      1  \n",
       "3     1      1  \n",
       "4     1      1  \n",
       "5     1      1  \n",
       "6     1      1  \n",
       "7     1      1  "
      ]
     },
     "execution_count": 26,
     "metadata": {},
     "output_type": "execute_result"
    }
   ],
   "source": [
    "pd.DataFrame(resp_json)"
   ]
  },
  {
   "cell_type": "code",
   "execution_count": 27,
   "id": "6590a772",
   "metadata": {},
   "outputs": [],
   "source": [
    "movies_df = pd.json_normalize(resp_json['docs'])"
   ]
  },
  {
   "cell_type": "code",
   "execution_count": 32,
   "id": "d1bda8b4",
   "metadata": {},
   "outputs": [
    {
     "data": {
      "text/html": [
       "<div>\n",
       "<style scoped>\n",
       "    .dataframe tbody tr th:only-of-type {\n",
       "        vertical-align: middle;\n",
       "    }\n",
       "\n",
       "    .dataframe tbody tr th {\n",
       "        vertical-align: top;\n",
       "    }\n",
       "\n",
       "    .dataframe thead th {\n",
       "        text-align: right;\n",
       "    }\n",
       "</style>\n",
       "<table border=\"1\" class=\"dataframe\">\n",
       "  <thead>\n",
       "    <tr style=\"text-align: right;\">\n",
       "      <th></th>\n",
       "      <th>_id</th>\n",
       "      <th>name</th>\n",
       "      <th>runtimeInMinutes</th>\n",
       "      <th>budgetInMillions</th>\n",
       "      <th>boxOfficeRevenueInMillions</th>\n",
       "      <th>academyAwardNominations</th>\n",
       "      <th>academyAwardWins</th>\n",
       "      <th>rottenTomatoesScore</th>\n",
       "    </tr>\n",
       "  </thead>\n",
       "  <tbody>\n",
       "    <tr>\n",
       "      <th>0</th>\n",
       "      <td>5cd95395de30eff6ebccde56</td>\n",
       "      <td>The Lord of the Rings Series</td>\n",
       "      <td>558</td>\n",
       "      <td>281</td>\n",
       "      <td>2917.0</td>\n",
       "      <td>30</td>\n",
       "      <td>17</td>\n",
       "      <td>94.000000</td>\n",
       "    </tr>\n",
       "    <tr>\n",
       "      <th>1</th>\n",
       "      <td>5cd95395de30eff6ebccde57</td>\n",
       "      <td>The Hobbit Series</td>\n",
       "      <td>462</td>\n",
       "      <td>675</td>\n",
       "      <td>2932.0</td>\n",
       "      <td>7</td>\n",
       "      <td>1</td>\n",
       "      <td>66.333333</td>\n",
       "    </tr>\n",
       "    <tr>\n",
       "      <th>2</th>\n",
       "      <td>5cd95395de30eff6ebccde58</td>\n",
       "      <td>The Unexpected Journey</td>\n",
       "      <td>169</td>\n",
       "      <td>200</td>\n",
       "      <td>1021.0</td>\n",
       "      <td>3</td>\n",
       "      <td>1</td>\n",
       "      <td>64.000000</td>\n",
       "    </tr>\n",
       "    <tr>\n",
       "      <th>3</th>\n",
       "      <td>5cd95395de30eff6ebccde59</td>\n",
       "      <td>The Desolation of Smaug</td>\n",
       "      <td>161</td>\n",
       "      <td>217</td>\n",
       "      <td>958.4</td>\n",
       "      <td>3</td>\n",
       "      <td>0</td>\n",
       "      <td>75.000000</td>\n",
       "    </tr>\n",
       "    <tr>\n",
       "      <th>4</th>\n",
       "      <td>5cd95395de30eff6ebccde5a</td>\n",
       "      <td>The Battle of the Five Armies</td>\n",
       "      <td>144</td>\n",
       "      <td>250</td>\n",
       "      <td>956.0</td>\n",
       "      <td>1</td>\n",
       "      <td>0</td>\n",
       "      <td>60.000000</td>\n",
       "    </tr>\n",
       "    <tr>\n",
       "      <th>5</th>\n",
       "      <td>5cd95395de30eff6ebccde5b</td>\n",
       "      <td>The Two Towers</td>\n",
       "      <td>179</td>\n",
       "      <td>94</td>\n",
       "      <td>926.0</td>\n",
       "      <td>6</td>\n",
       "      <td>2</td>\n",
       "      <td>96.000000</td>\n",
       "    </tr>\n",
       "    <tr>\n",
       "      <th>6</th>\n",
       "      <td>5cd95395de30eff6ebccde5c</td>\n",
       "      <td>The Fellowship of the Ring</td>\n",
       "      <td>178</td>\n",
       "      <td>93</td>\n",
       "      <td>871.5</td>\n",
       "      <td>13</td>\n",
       "      <td>4</td>\n",
       "      <td>91.000000</td>\n",
       "    </tr>\n",
       "    <tr>\n",
       "      <th>7</th>\n",
       "      <td>5cd95395de30eff6ebccde5d</td>\n",
       "      <td>The Return of the King</td>\n",
       "      <td>201</td>\n",
       "      <td>94</td>\n",
       "      <td>1120.0</td>\n",
       "      <td>11</td>\n",
       "      <td>11</td>\n",
       "      <td>95.000000</td>\n",
       "    </tr>\n",
       "  </tbody>\n",
       "</table>\n",
       "</div>"
      ],
      "text/plain": [
       "                        _id                           name  runtimeInMinutes  \\\n",
       "0  5cd95395de30eff6ebccde56   The Lord of the Rings Series               558   \n",
       "1  5cd95395de30eff6ebccde57              The Hobbit Series               462   \n",
       "2  5cd95395de30eff6ebccde58         The Unexpected Journey               169   \n",
       "3  5cd95395de30eff6ebccde59        The Desolation of Smaug               161   \n",
       "4  5cd95395de30eff6ebccde5a  The Battle of the Five Armies               144   \n",
       "5  5cd95395de30eff6ebccde5b                The Two Towers                179   \n",
       "6  5cd95395de30eff6ebccde5c     The Fellowship of the Ring               178   \n",
       "7  5cd95395de30eff6ebccde5d         The Return of the King               201   \n",
       "\n",
       "   budgetInMillions  boxOfficeRevenueInMillions  academyAwardNominations  \\\n",
       "0               281                      2917.0                       30   \n",
       "1               675                      2932.0                        7   \n",
       "2               200                      1021.0                        3   \n",
       "3               217                       958.4                        3   \n",
       "4               250                       956.0                        1   \n",
       "5                94                       926.0                        6   \n",
       "6                93                       871.5                       13   \n",
       "7                94                      1120.0                       11   \n",
       "\n",
       "   academyAwardWins  rottenTomatoesScore  \n",
       "0                17            94.000000  \n",
       "1                 1            66.333333  \n",
       "2                 1            64.000000  \n",
       "3                 0            75.000000  \n",
       "4                 0            60.000000  \n",
       "5                 2            96.000000  \n",
       "6                 4            91.000000  \n",
       "7                11            95.000000  "
      ]
     },
     "execution_count": 32,
     "metadata": {},
     "output_type": "execute_result"
    }
   ],
   "source": [
    "movies_df"
   ]
  },
  {
   "cell_type": "code",
   "execution_count": 49,
   "id": "d441bf76",
   "metadata": {},
   "outputs": [],
   "source": [
    "movie_id = movies_df[movies_df[\"name\"] == \"The Return of the King\"][\"_id\"].values[0]\n",
    "movie_api_url = f'https://the-one-api.dev/v2/movie/{movie_id}/quote'\n"
   ]
  },
  {
   "cell_type": "code",
   "execution_count": 50,
   "id": "c9b598d3",
   "metadata": {},
   "outputs": [],
   "source": [
    "resp2 = requests.get(movie_api_url,headers = header)\n"
   ]
  },
  {
   "cell_type": "code",
   "execution_count": 51,
   "id": "e0810773",
   "metadata": {},
   "outputs": [
    {
     "data": {
      "text/plain": [
       "{'Date': 'Wed, 10 Nov 2021 12:05:45 GMT', 'Server': 'Apache/2.4.41 (Ubuntu)', 'Content-Security-Policy': \"default-src 'self';base-uri 'self';block-all-mixed-content;font-src 'self' https: data:;frame-ancestors 'self';img-src 'self' data:;object-src 'none';script-src 'self';script-src-attr 'none';style-src 'self' https: 'unsafe-inline';upgrade-insecure-requests\", 'X-DNS-Prefetch-Control': 'off', 'Expect-CT': 'max-age=0', 'X-Frame-Options': 'SAMEORIGIN', 'Strict-Transport-Security': 'max-age=15552000; includeSubDomains', 'X-Download-Options': 'noopen', 'X-Content-Type-Options': 'nosniff', 'X-Permitted-Cross-Domain-Policies': 'none', 'Referrer-Policy': 'no-referrer', 'X-XSS-Protection': '0', 'Access-Control-Allow-Origin': '*', 'X-RateLimit-Limit': '100', 'X-RateLimit-Remaining': '98', 'X-RateLimit-Reset': '1636546445', 'Content-Type': 'application/json; charset=utf-8', 'Content-Length': '158106', 'ETag': 'W/\"2699a-mfYKPtah0CUafvGTcg4Wu3JWb/s\"', 'Keep-Alive': 'timeout=5, max=100', 'Connection': 'Keep-Alive'}"
      ]
     },
     "execution_count": 51,
     "metadata": {},
     "output_type": "execute_result"
    }
   ],
   "source": [
    "resp2.headers"
   ]
  },
  {
   "cell_type": "code",
   "execution_count": 52,
   "id": "e3ec4186",
   "metadata": {},
   "outputs": [
    {
     "data": {
      "text/plain": [
       "200"
      ]
     },
     "execution_count": 52,
     "metadata": {},
     "output_type": "execute_result"
    }
   ],
   "source": [
    "resp2.status_code"
   ]
  },
  {
   "cell_type": "code",
   "execution_count": 58,
   "id": "e56390a5",
   "metadata": {},
   "outputs": [],
   "source": [
    "quotes_df = pd.json_normalize(resp2.json()['docs'])"
   ]
  },
  {
   "cell_type": "code",
   "execution_count": 59,
   "id": "c0a8663b",
   "metadata": {},
   "outputs": [
    {
     "data": {
      "text/html": [
       "<div>\n",
       "<style scoped>\n",
       "    .dataframe tbody tr th:only-of-type {\n",
       "        vertical-align: middle;\n",
       "    }\n",
       "\n",
       "    .dataframe tbody tr th {\n",
       "        vertical-align: top;\n",
       "    }\n",
       "\n",
       "    .dataframe thead th {\n",
       "        text-align: right;\n",
       "    }\n",
       "</style>\n",
       "<table border=\"1\" class=\"dataframe\">\n",
       "  <thead>\n",
       "    <tr style=\"text-align: right;\">\n",
       "      <th></th>\n",
       "      <th>_id</th>\n",
       "      <th>dialog</th>\n",
       "      <th>movie</th>\n",
       "      <th>character</th>\n",
       "    </tr>\n",
       "  </thead>\n",
       "  <tbody>\n",
       "    <tr>\n",
       "      <th>0</th>\n",
       "      <td>5cd96e05de30eff6ebcce7e9</td>\n",
       "      <td>Deagol!</td>\n",
       "      <td>5cd95395de30eff6ebccde5d</td>\n",
       "      <td>5cd99d4bde30eff6ebccfe9e</td>\n",
       "    </tr>\n",
       "    <tr>\n",
       "      <th>1</th>\n",
       "      <td>5cd96e05de30eff6ebcce7ea</td>\n",
       "      <td>Deagol!</td>\n",
       "      <td>5cd95395de30eff6ebccde5d</td>\n",
       "      <td>5cd99d4bde30eff6ebccfe9e</td>\n",
       "    </tr>\n",
       "    <tr>\n",
       "      <th>2</th>\n",
       "      <td>5cd96e05de30eff6ebcce7eb</td>\n",
       "      <td>Deagol!</td>\n",
       "      <td>5cd95395de30eff6ebccde5d</td>\n",
       "      <td>5cd99d4bde30eff6ebccfe9e</td>\n",
       "    </tr>\n",
       "    <tr>\n",
       "      <th>3</th>\n",
       "      <td>5cd96e05de30eff6ebcce7ec</td>\n",
       "      <td>Give us that! Deagol my love</td>\n",
       "      <td>5cd95395de30eff6ebccde5d</td>\n",
       "      <td>5cd99d4bde30eff6ebccfe9e</td>\n",
       "    </tr>\n",
       "    <tr>\n",
       "      <th>4</th>\n",
       "      <td>5cd96e05de30eff6ebcce7ed</td>\n",
       "      <td>Why?</td>\n",
       "      <td>5cd95395de30eff6ebccde5d</td>\n",
       "      <td>5cd99d4bde30eff6ebccfca7</td>\n",
       "    </tr>\n",
       "  </tbody>\n",
       "</table>\n",
       "</div>"
      ],
      "text/plain": [
       "                        _id                        dialog  \\\n",
       "0  5cd96e05de30eff6ebcce7e9                       Deagol!   \n",
       "1  5cd96e05de30eff6ebcce7ea                       Deagol!   \n",
       "2  5cd96e05de30eff6ebcce7eb                       Deagol!   \n",
       "3  5cd96e05de30eff6ebcce7ec  Give us that! Deagol my love   \n",
       "4  5cd96e05de30eff6ebcce7ed                          Why?   \n",
       "\n",
       "                      movie                 character  \n",
       "0  5cd95395de30eff6ebccde5d  5cd99d4bde30eff6ebccfe9e  \n",
       "1  5cd95395de30eff6ebccde5d  5cd99d4bde30eff6ebccfe9e  \n",
       "2  5cd95395de30eff6ebccde5d  5cd99d4bde30eff6ebccfe9e  \n",
       "3  5cd95395de30eff6ebccde5d  5cd99d4bde30eff6ebccfe9e  \n",
       "4  5cd95395de30eff6ebccde5d  5cd99d4bde30eff6ebccfca7  "
      ]
     },
     "execution_count": 59,
     "metadata": {},
     "output_type": "execute_result"
    }
   ],
   "source": [
    "quotes_df.head()"
   ]
  },
  {
   "cell_type": "code",
   "execution_count": 66,
   "id": "e9aee321",
   "metadata": {},
   "outputs": [],
   "source": [
    "def randquote():\n",
    "    pick = random.choice(list(quotes_df['dialog']))\n",
    "    return pick\n"
   ]
  },
  {
   "cell_type": "code",
   "execution_count": 69,
   "id": "b0014ec3",
   "metadata": {},
   "outputs": [
    {
     "data": {
      "text/plain": [
       "'I think you have strength of a different kind.\\xa0 And one day your father     will see it.'"
      ]
     },
     "execution_count": 69,
     "metadata": {},
     "output_type": "execute_result"
    }
   ],
   "source": [
    "randquote()"
   ]
  },
  {
   "cell_type": "code",
   "execution_count": 63,
   "id": "53d2128f",
   "metadata": {},
   "outputs": [
    {
     "data": {
      "text/plain": [
       "'I will go!'"
      ]
     },
     "execution_count": 63,
     "metadata": {},
     "output_type": "execute_result"
    }
   ],
   "source": []
  },
  {
   "cell_type": "markdown",
   "id": "8be43bdc",
   "metadata": {},
   "source": [
    "# Mini-Trivial ¿Qui va dir la frase ...?"
   ]
  },
  {
   "cell_type": "markdown",
   "id": "bf84537d",
   "metadata": {},
   "source": [
    "### STEP 1\n",
    "- Importar df de quotes\n",
    "\n",
    "### STEP 2\n",
    "- Importar df de caracters\n",
    "\n",
    "### STEP 3\n",
    "- Crear funció per triar quote a l'atzar i guardar-la en variable\n",
    "\n",
    "### STEP 4\n",
    "- Recuperar personatge de caracter_df a partir de la id obtinguda del quote_df.\n",
    "- Guardar-lo en variable\n",
    "\n",
    "### STEP 5 \n",
    "- Preguntar a usuari qui va dir la frase? i comprovar si es correspon amb caracter guardat\n"
   ]
  },
  {
   "cell_type": "code",
   "execution_count": null,
   "id": "72f66b90",
   "metadata": {},
   "outputs": [],
   "source": []
  },
  {
   "cell_type": "code",
   "execution_count": null,
   "id": "b4d26386",
   "metadata": {},
   "outputs": [],
   "source": []
  }
 ],
 "metadata": {
  "kernelspec": {
   "display_name": "Python 3 (ipykernel)",
   "language": "python",
   "name": "python3"
  },
  "language_info": {
   "codemirror_mode": {
    "name": "ipython",
    "version": 3
   },
   "file_extension": ".py",
   "mimetype": "text/x-python",
   "name": "python",
   "nbconvert_exporter": "python",
   "pygments_lexer": "ipython3",
   "version": "3.9.7"
  }
 },
 "nbformat": 4,
 "nbformat_minor": 5
}
